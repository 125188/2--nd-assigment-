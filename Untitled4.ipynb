{
 "cells": [
  {
   "cell_type": "markdown",
   "id": "e09f5194-f520-4fce-a680-bb71aff849ab",
   "metadata": {},
   "source": [
    "# 1.\n",
    "\n",
    "percentage = int(input(\"enter the percentage\"))\n",
    "\n",
    "if percentage > 90:\n",
    "    print(\"A-grade\")\n",
    "if percentage > 80 and percentage <= 90:\n",
    "    print(\"B-grade\")\n",
    "if percentage >= 60 and percentage <= 80:\n",
    "    print(\"C-grade\")\n",
    "else:\n",
    "    print(\"D-grade\")"
   ]
  },
  {
   "cell_type": "markdown",
   "id": "48b4aa21-680c-4e0f-a552-fe55c97fcf2e",
   "metadata": {},
   "source": [
    "# 2.\n",
    "\n",
    "costprice = int(input(\"enter the cost price of the bike\"))\n",
    "if costprice > 100000:\n",
    "    print(\"The tax is {%d*0.85}\",costprice)\n",
    "elif costprice > 50000 and costprice <= 100000:\n",
    "    print(\"The tax is {%d*90}\",costprice)\n",
    "else:\n",
    "    print(\"The tax is {%d*0.95}\",costprice)\n",
    "    "
   ]
  },
  {
   "cell_type": "markdown",
   "id": "fdd7821d-d671-42b6-877b-eb46bd3fc443",
   "metadata": {},
   "source": [
    "# 3.\n",
    "\n",
    "city = str(input(\"enter the name of the city\"))\n",
    "if city==\"delhi\" or \"Delhi\":\n",
    "    print(\"You are at the RED FORT\")\n",
    "if city==\"agra\" or \"Agra\":\n",
    "    print(\"You are at the TAJ MAHAL\")\n",
    "if city == \"Jaipur\" or \"jaipur\":\n",
    "    print(\"You are at the JAL MAHAL\")\n",
    "else:\n",
    "    printf(\"You are in INDIA\")"
   ]
  },
  {
   "cell_type": "markdown",
   "id": "4c6a048b-c749-473a-b0be-9d028e6f793e",
   "metadata": {},
   "source": [
    "# 4.\n",
    "def divide_by_3(n):\n",
    "    c = 0\n",
    "    while n > 10:\n",
    "        n = n / 3\n",
    "        c += 1\n",
    "    return c\n",
    "\n",
    "given_number = 27\n",
    "result = divide_by_3(given_number)\n",
    "print(f\"The number {given_number} can be divided by 3 {result} times before it is less than or equal to 10.\")\n"
   ]
  },
  {
   "cell_type": "markdown",
   "id": "9b6c77be-63d8-4d04-bcde-760b09d70a5e",
   "metadata": {},
   "source": [
    "#5.\n",
    "\n",
    "In python a while loop is used to execute a statement repeatedly until the condition in the block \n",
    "is \"true\"....\n",
    "\n",
    "## while condition syntax\n",
    "   \n",
    "    while condition:\n",
    "        \n",
    "        # write the condition\n",
    "        \n",
    "## example of a while loop\n",
    "\n",
    "#example: print the numbers from 1 to 10\n",
    "\n",
    "count = 1\n",
    "\n",
    "while count <= 10:\n",
    "    print(count)\n",
    "    count += 1\n"
   ]
  },
  {
   "cell_type": "markdown",
   "id": "67223512-227f-4346-b769-e1322a2385d8",
   "metadata": {},
   "source": [
    "# 6 .\n",
    "\n",
    "# 1st code:::rows = 5\n",
    "for i in range(1, rows+1):\n",
    "    for j in range(1, i+1):\n",
    "        print(\"*\", end=\"\")\n",
    "    print(\"\")\n",
    "\n",
    "## 2nd code::\n",
    "\n",
    "rows = 5\n",
    "for i in range(1, rows+1):\n",
    "    for j in range(1, (rows-i)+1):\n",
    "        print(end=\" \")\n",
    "    for j in range(1, i+1):\n",
    "        print(\"*\", end=\"\")\n",
    "    print(\"\")\n",
    "\n",
    "    \n",
    "## 3rd code\n",
    "\n",
    "rows = 5\n",
    "for i in range(1, (rows*2)+1):\n",
    "    for j in range(1, (rows-i)+1):\n",
    "        print(end=\" \")\n",
    "    for j in range(1, (i*2)):\n",
    "        print(\"*\", end=\"\")\n",
    "    print(\"\")\n",
    "for i in range(rows-1, 0, -1):\n",
    "    for j in range(1, (rows-i)+1):\n",
    "        print(end=\" \")\n",
    "    for j in range(1, (i*2)):\n",
    "        print(\"*\", end=\"\")\n",
    "    print(\"\")"
   ]
  },
  {
   "cell_type": "markdown",
   "id": "3664cd13-f05b-4f8b-bece-48b2b7152b6b",
   "metadata": {},
   "source": [
    "# 7. \n",
    "\n",
    "c = 10\n",
    "\n",
    "while c >= 1:\n",
    "    print(c)\n",
    "    c -= 1      #reverse condition\n"
   ]
  },
  {
   "cell_type": "code",
   "execution_count": null,
   "id": "84dd3cbc-d76d-4775-957a-8ecb3b3cdb99",
   "metadata": {},
   "outputs": [],
   "source": [
    "# 8. \n",
    "\n",
    "count = 10\n",
    "\n",
    "while count >= 1:\n",
    "    print(count)\n",
    "    count -= 1  #reverse condition\n"
   ]
  }
 ],
 "metadata": {
  "kernelspec": {
   "display_name": "Python 3 (ipykernel)",
   "language": "python",
   "name": "python3"
  },
  "language_info": {
   "codemirror_mode": {
    "name": "ipython",
    "version": 3
   },
   "file_extension": ".py",
   "mimetype": "text/x-python",
   "name": "python",
   "nbconvert_exporter": "python",
   "pygments_lexer": "ipython3",
   "version": "3.10.8"
  }
 },
 "nbformat": 4,
 "nbformat_minor": 5
}
